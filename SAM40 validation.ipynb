{
 "cells": [
  {
   "cell_type": "markdown",
   "metadata": {
    "id": "1RC5eq86oeKt"
   },
   "source": [
    "# SAM 40 dataset\n",
    "\n",
    "**Dataset:** [SAM 40: Dataset](\n",
    "https://figshare.com/articles/dataset/SAM_40_Dataset_of_40_Subject_EEG_Recordings_to_Monitor_the_Induced-Stress_while_performing_Stroop_Color-Word_Test_Arithmetic_Task_and_Mirror_Image_Recognition_Task/14562090?file=27956376)\n",
    "\n",
    "**Article:** [SAM 40: Dataset of 40 subject EEG recordings to monitor the induced-stress while performing Stroop color-word test, arithmetic task, and mirror image recognition task](https://www.sciencedirect.com/science/article/pii/S2352340921010465?ref=pdf_download&fr=RR-2&rr=96adf844ce23e918)\n"
   ]
  },
  {
   "cell_type": "markdown",
   "metadata": {
    "id": "eGwXrDX9hbcG"
   },
   "source": [
    "# Import libraries\n"
   ]
  },
  {
   "cell_type": "code",
   "execution_count": null,
   "metadata": {
    "id": "8jjrp-gsPSG7"
   },
   "outputs": [],
   "source": [
    "import numpy as np\n",
    "import pandas as pd\n",
    "import seaborn as sns\n",
    "import scipy.io\n",
    "import matplotlib.pyplot as plt\n",
    "plt.ion()\n",
    "\n",
    "\n",
    "import mne\n",
    "mne.set_log_level('error')\n",
    "\n",
    "\n",
    "import os\n",
    "import random\n",
    "import shutil\n",
    "\n",
    "SEED = 42\n",
    "np.random.seed(SEED)\n",
    "random.seed(SEED)\n",
    "\n",
    "pd.options.display.max_columns = None # показываем все колонки"
   ]
  },
  {
   "cell_type": "markdown",
   "metadata": {},
   "source": [
    "# SAM40: full"
   ]
  },
  {
   "cell_type": "code",
   "execution_count": null,
   "metadata": {},
   "outputs": [],
   "source": [
    "file_path = r'epochs\\sam40_full_epochs.zip'\n",
    "\n",
    "shutil.unpack_archive(file_path, extract_dir=os.path.dirname(file_path), format=\"zip\")\n",
    "fif_path = os.path.splitext(file_path)[0] + \".fif\"\n",
    "sam40_full_epochs = mne.read_epochs(fif_path, preload=True)\n",
    "os.remove(fif_path)\n",
    "\n",
    "sam40_full_epochs"
   ]
  },
  {
   "cell_type": "code",
   "execution_count": 3,
   "metadata": {},
   "outputs": [
    {
     "data": {
      "image/png": "[encoded data removed]",
      "text/plain": [
       "<Figure size 1500x500 with 1 Axes>"
      ]
     },
     "metadata": {},
     "output_type": "display_data"
    }
   ],
   "source": [
    "\n",
    "fig, ax = plt.subplots(figsize=[15, 5])\n",
    "\n",
    "mne.viz.plot_events(\n",
    "    sam40_full_epochs.events,\n",
    "    sam40_full_epochs.info[\"sfreq\"],\n",
    "    event_id=sam40_full_epochs.event_id,\n",
    "    axes=ax\n",
    ")\n",
    "plt.show()"
   ]
  },
  {
   "cell_type": "code",
   "execution_count": 4,
   "metadata": {},
   "outputs": [
    {
     "name": "stdout",
     "output_type": "stream",
     "text": [
      "X исходная: (46080, 12, 129) (эпохи, каналы, время)\n",
      "X после reshape: (46080, 1548) (эпохи, признаки)\n",
      "y: (46080,) (метки классов)\n"
     ]
    }
   ],
   "source": [
    "X = sam40_full_epochs.get_data(copy=False) \n",
    "y = sam40_full_epochs.events[:, 2]       \n",
    "\n",
    "shape = X.shape\n",
    "n_epochs, n_channels, n_times = X.shape\n",
    "X = X.reshape(n_epochs, n_channels * n_times)\n",
    "\n",
    "\n",
    "print(f\"X исходная: {shape} (эпохи, каналы, время)\")\n",
    "print(f\"X после reshape: {X.shape} (эпохи, признаки)\")\n",
    "print(f\"y: {y.shape} (метки классов)\")"
   ]
  },
  {
   "cell_type": "code",
   "execution_count": 5,
   "metadata": {},
   "outputs": [
    {
     "name": "stdout",
     "output_type": "stream",
     "text": [
      "subject_groups: (46080,) \n",
      "session_groups: (46080,) \n"
     ]
    }
   ],
   "source": [
    "session_groups = sam40_full_epochs.metadata[\"session\"].values\n",
    "subject_groups = sam40_full_epochs.metadata[\"subject\"].values\n",
    "\n",
    "print(f\"subject_groups: {subject_groups.shape} \")\n",
    "print(f\"session_groups: {session_groups.shape} \")"
   ]
  },
  {
   "cell_type": "markdown",
   "metadata": {},
   "source": [
    "## Baseline - Full"
   ]
  },
  {
   "cell_type": "code",
   "execution_count": 6,
   "metadata": {},
   "outputs": [
    {
     "data": {
      "text/html": [
       "<div>\n",
       "<style scoped>\n",
       "    .dataframe tbody tr th:only-of-type {\n",
       "        vertical-align: middle;\n",
       "    }\n",
       "\n",
       "    .dataframe tbody tr th {\n",
       "        vertical-align: top;\n",
       "    }\n",
       "\n",
       "    .dataframe thead th {\n",
       "        text-align: right;\n",
       "    }\n",
       "</style>\n",
       "<table border=\"1\" class=\"dataframe\">\n",
       "  <thead>\n",
       "    <tr style=\"text-align: right;\">\n",
       "      <th></th>\n",
       "      <th>accuracy</th>\n",
       "      <th>precision</th>\n",
       "      <th>recall</th>\n",
       "      <th>f1</th>\n",
       "    </tr>\n",
       "  </thead>\n",
       "  <tbody>\n",
       "    <tr>\n",
       "      <th>0</th>\n",
       "      <td>0.83</td>\n",
       "      <td>0.83</td>\n",
       "      <td>0.97</td>\n",
       "      <td>0.9</td>\n",
       "    </tr>\n",
       "    <tr>\n",
       "      <th>1</th>\n",
       "      <td>0.83</td>\n",
       "      <td>0.83</td>\n",
       "      <td>0.97</td>\n",
       "      <td>0.9</td>\n",
       "    </tr>\n",
       "    <tr>\n",
       "      <th>2</th>\n",
       "      <td>0.83</td>\n",
       "      <td>0.84</td>\n",
       "      <td>0.97</td>\n",
       "      <td>0.9</td>\n",
       "    </tr>\n",
       "    <tr>\n",
       "      <th>3</th>\n",
       "      <td>0.83</td>\n",
       "      <td>0.83</td>\n",
       "      <td>0.97</td>\n",
       "      <td>0.9</td>\n",
       "    </tr>\n",
       "    <tr>\n",
       "      <th>4</th>\n",
       "      <td>0.83</td>\n",
       "      <td>0.83</td>\n",
       "      <td>0.97</td>\n",
       "      <td>0.9</td>\n",
       "    </tr>\n",
       "    <tr>\n",
       "      <th>mean</th>\n",
       "      <td>0.83</td>\n",
       "      <td>0.83</td>\n",
       "      <td>0.97</td>\n",
       "      <td>0.9</td>\n",
       "    </tr>\n",
       "  </tbody>\n",
       "</table>\n",
       "</div>"
      ],
      "text/plain": [
       "      accuracy  precision  recall   f1\n",
       "0         0.83       0.83    0.97  0.9\n",
       "1         0.83       0.83    0.97  0.9\n",
       "2         0.83       0.84    0.97  0.9\n",
       "3         0.83       0.83    0.97  0.9\n",
       "4         0.83       0.83    0.97  0.9\n",
       "mean      0.83       0.83    0.97  0.9"
      ]
     },
     "execution_count": 6,
     "metadata": {},
     "output_type": "execute_result"
    }
   ],
   "source": [
    "from sklearn.model_selection import StratifiedKFold,  cross_validate\n",
    "from sklearn.pipeline import Pipeline\n",
    "from sklearn.preprocessing import StandardScaler\n",
    "from sklearn.metrics import accuracy_score\n",
    "from sklearn.metrics import make_scorer, accuracy_score, precision_score, recall_score, f1_score\n",
    "import xgboost as xgb\n",
    "\n",
    "xgb_classifier = xgb.XGBClassifier(\n",
    "    objective='binary:logistic',  # Для бинарной классификации\n",
    "    n_estimators=100,             # Количество деревьев (можно увеличить)\n",
    "    learning_rate=0.2,            # Скорость обучения\n",
    "    max_depth=7,                  # Максимальная глубина дерева (можно настроить)\n",
    "    eval_metric='logloss',        # Метрика для бинарной классификации\n",
    "    random_state=42\n",
    ")\n",
    "\n",
    "pipeline = Pipeline([\n",
    "    ('scaler', StandardScaler()),\n",
    "    ('clf', xgb_classifier)\n",
    "])\n",
    "\n",
    "skf = StratifiedKFold(n_splits=5, shuffle=True, random_state=42)\n",
    "\n",
    "scoring = {\n",
    "    'accuracy': make_scorer(accuracy_score),\n",
    "    'precision': make_scorer(precision_score),\n",
    "    'recall': make_scorer(recall_score),\n",
    "    'f1': make_scorer(f1_score)\n",
    "}\n",
    "\n",
    "\n",
    "cv_results = cross_validate(pipeline, X, y, cv=skf, scoring=scoring)\n",
    "\n",
    "\n",
    "metrics_table = pd.DataFrame({\n",
    "    metric: cv_results[f'test_{metric}'] for metric in scoring.keys()\n",
    "})\n",
    "metrics_table.loc['mean'] = metrics_table.mean()\n",
    "metrics_table = metrics_table.round(2)\n",
    "\n",
    "\n",
    "metrics_table"
   ]
  },
  {
   "cell_type": "markdown",
   "metadata": {
    "id": "K61O3730lhkc"
   },
   "source": [
    "## Cross-subject"
   ]
  },
  {
   "cell_type": "code",
   "execution_count": null,
   "metadata": {},
   "outputs": [],
   "source": [
    "import xgboost as xgb\n",
    "from sklearn.model_selection import LeaveOneGroupOut, cross_validate\n",
    "from sklearn.preprocessing import StandardScaler\n",
    "from sklearn.pipeline import Pipeline\n",
    "from sklearn.metrics import (\n",
    "    make_scorer, accuracy_score, precision_score, recall_score, f1_score\n",
    ")\n",
    "\n",
    "# --- 3. Классификатор ---\n",
    "xgb_classifier = xgb.XGBClassifier(\n",
    "    objective='binary:logistic',\n",
    "    n_estimators=100,\n",
    "    learning_rate=0.2,\n",
    "    max_depth=7,\n",
    "    eval_metric='logloss',\n",
    "    random_state=42\n",
    ")\n",
    "\n",
    "pipeline = Pipeline([\n",
    "    ('scaler', StandardScaler()),\n",
    "    ('clf', xgb_classifier)\n",
    "])\n",
    "\n",
    "# --- 4. CV ---\n",
    "logo = LeaveOneGroupOut()\n",
    "\n",
    "scoring = {\n",
    "    'accuracy': make_scorer(accuracy_score),\n",
    "    'precision': make_scorer(precision_score),\n",
    "    'recall': make_scorer(recall_score),\n",
    "    'f1': make_scorer(f1_score)\n",
    "}\n",
    "\n",
    "cv_results = cross_validate(\n",
    "    pipeline, X, y,\n",
    "    cv=logo.split(X, y, groups=subject_groups),\n",
    "    scoring=scoring,\n",
    "    return_train_score=False\n",
    ")\n",
    "\n",
    "# --- 5. Результаты ---\n",
    "metrics_table = pd.DataFrame({\n",
    "    metric: cv_results[f'test_{metric}'] for metric in scoring.keys()\n",
    "})\n",
    "metrics_table.loc['mean'] = metrics_table.mean()\n",
    "metrics_table = metrics_table.round(2)\n",
    "\n",
    "metrics_table"
   ]
  },
  {
   "cell_type": "markdown",
   "metadata": {},
   "source": [
    "## Cross-session"
   ]
  },
  {
   "cell_type": "code",
   "execution_count": null,
   "metadata": {},
   "outputs": [
    {
     "data": {
      "text/html": [
       "<div>\n",
       "<style scoped>\n",
       "    .dataframe tbody tr th:only-of-type {\n",
       "        vertical-align: middle;\n",
       "    }\n",
       "\n",
       "    .dataframe tbody tr th {\n",
       "        vertical-align: top;\n",
       "    }\n",
       "\n",
       "    .dataframe thead th {\n",
       "        text-align: right;\n",
       "    }\n",
       "</style>\n",
       "<table border=\"1\" class=\"dataframe\">\n",
       "  <thead>\n",
       "    <tr style=\"text-align: right;\">\n",
       "      <th></th>\n",
       "      <th>accuracy</th>\n",
       "      <th>precision</th>\n",
       "      <th>recall</th>\n",
       "      <th>f1</th>\n",
       "    </tr>\n",
       "  </thead>\n",
       "  <tbody>\n",
       "    <tr>\n",
       "      <th>0</th>\n",
       "      <td>0.7264</td>\n",
       "      <td>0.7799</td>\n",
       "      <td>0.8849</td>\n",
       "      <td>0.8291</td>\n",
       "    </tr>\n",
       "    <tr>\n",
       "      <th>1</th>\n",
       "      <td>0.7260</td>\n",
       "      <td>0.7623</td>\n",
       "      <td>0.9222</td>\n",
       "      <td>0.8347</td>\n",
       "    </tr>\n",
       "    <tr>\n",
       "      <th>2</th>\n",
       "      <td>0.7291</td>\n",
       "      <td>0.7740</td>\n",
       "      <td>0.9023</td>\n",
       "      <td>0.8332</td>\n",
       "    </tr>\n",
       "    <tr>\n",
       "      <th>mean</th>\n",
       "      <td>0.7272</td>\n",
       "      <td>0.7721</td>\n",
       "      <td>0.9031</td>\n",
       "      <td>0.8323</td>\n",
       "    </tr>\n",
       "  </tbody>\n",
       "</table>\n",
       "</div>"
      ],
      "text/plain": [
       "      accuracy  precision  recall      f1\n",
       "0       0.7264     0.7799  0.8849  0.8291\n",
       "1       0.7260     0.7623  0.9222  0.8347\n",
       "2       0.7291     0.7740  0.9023  0.8332\n",
       "mean    0.7272     0.7721  0.9031  0.8323"
      ]
     },
     "execution_count": 18,
     "metadata": {},
     "output_type": "execute_result"
    }
   ],
   "source": [
    "import xgboost as xgb\n",
    "from sklearn.model_selection import LeaveOneGroupOut, cross_validate\n",
    "from sklearn.preprocessing import StandardScaler\n",
    "from sklearn.pipeline import Pipeline\n",
    "from sklearn.metrics import (\n",
    "    make_scorer, accuracy_score, precision_score, recall_score, f1_score\n",
    ")\n",
    "\n",
    "# --- 3. Классификатор ---\n",
    "xgb_classifier = xgb.XGBClassifier(\n",
    "    objective='binary:logistic',\n",
    "    n_estimators=100,\n",
    "    learning_rate=0.2,\n",
    "    max_depth=7,\n",
    "    eval_metric='logloss',\n",
    "    random_state=42\n",
    ")\n",
    "\n",
    "pipeline = Pipeline([\n",
    "    ('scaler', StandardScaler()),\n",
    "    ('clf', xgb_classifier)\n",
    "])\n",
    "\n",
    "# --- 4. CV ---\n",
    "logo = LeaveOneGroupOut()\n",
    "\n",
    "scoring = {\n",
    "    'accuracy': make_scorer(accuracy_score),\n",
    "    'precision': make_scorer(precision_score),\n",
    "    'recall': make_scorer(recall_score),\n",
    "    'f1': make_scorer(f1_score)\n",
    "}\n",
    "\n",
    "cv_results = cross_validate(\n",
    "    pipeline, X, y,\n",
    "    cv=logo.split(X, y, groups=session_groups),\n",
    "    scoring=scoring,\n",
    "    return_train_score=False\n",
    ")\n",
    "\n",
    "# --- 5. Результаты ---\n",
    "metrics_table = pd.DataFrame({\n",
    "    metric: cv_results[f'test_{metric}'] for metric in scoring.keys()\n",
    "})\n",
    "metrics_table.loc['mean'] = metrics_table.mean()\n",
    "metrics_table = metrics_table.round(2)\n",
    "\n",
    "metrics_table"
   ]
  },
  {
   "cell_type": "markdown",
   "metadata": {},
   "source": [
    "# SAM40: Stroop only\n"
   ]
  },
  {
   "cell_type": "code",
   "execution_count": null,
   "metadata": {},
   "outputs": [],
   "source": [
    "file_path = r'epochs\\sam40_stroop_epochs.zip'\n",
    "\n",
    "shutil.unpack_archive(file_path, extract_dir=os.path.dirname(file_path), format=\"zip\")\n",
    "fif_path = os.path.splitext(file_path)[0] + \".fif\"\n",
    "sam40_stroop_epochs = mne.read_epochs(fif_path, preload=True)\n",
    "os.remove(fif_path)\n",
    "\n",
    "sam40_stroop_epochs"
   ]
  },
  {
   "cell_type": "code",
   "execution_count": null,
   "metadata": {},
   "outputs": [],
   "source": [
    "fig, ax = plt.subplots(figsize=[15, 5])\n",
    "\n",
    "mne.viz.plot_events(\n",
    "    sam40_stroop_epochs.events,\n",
    "    sam40_stroop_epochs.info[\"sfreq\"],\n",
    "    event_id=sam40_stroop_epochs.event_id,\n",
    "    axes=ax\n",
    ")\n",
    "plt.show()"
   ]
  },
  {
   "cell_type": "code",
   "execution_count": null,
   "metadata": {},
   "outputs": [],
   "source": [
    "X = sam40_stroop_epochs.get_data(copy=False) \n",
    "y = sam40_stroop_epochs.events[:, 2]       \n",
    "\n",
    "shape = X.shape\n",
    "n_epochs, n_channels, n_times = X.shape\n",
    "X = X.reshape(n_epochs, n_channels * n_times)\n",
    "\n",
    "\n",
    "print(f\"X исходная: {shape} (эпохи, каналы, время)\")\n",
    "print(f\"X после reshape: {X.shape} (эпохи, признаки)\")\n",
    "print(f\"y: {y.shape} (метки классов)\")"
   ]
  },
  {
   "cell_type": "markdown",
   "metadata": {},
   "source": [
    "## Baseline - Stroop only"
   ]
  },
  {
   "cell_type": "code",
   "execution_count": null,
   "metadata": {},
   "outputs": [],
   "source": [
    "from sklearn.model_selection import StratifiedKFold,  cross_validate\n",
    "from sklearn.pipeline import Pipeline\n",
    "from sklearn.preprocessing import StandardScaler\n",
    "from sklearn.metrics import accuracy_score\n",
    "from sklearn.metrics import make_scorer, accuracy_score, precision_score, recall_score, f1_score\n",
    "import xgboost as xgb\n",
    "\n",
    "xgb_classifier = xgb.XGBClassifier(\n",
    "    objective='binary:logistic',  # Для бинарной классификации\n",
    "    n_estimators=100,             # Количество деревьев (можно увеличить)\n",
    "    learning_rate=0.2,            # Скорость обучения\n",
    "    max_depth=7,                  # Максимальная глубина дерева (можно настроить)\n",
    "    eval_metric='logloss',        # Метрика для бинарной классификации\n",
    "    random_state=42\n",
    ")\n",
    "\n",
    "pipeline = Pipeline([\n",
    "    ('scaler', StandardScaler()),\n",
    "    ('clf', xgb_classifier)\n",
    "])\n",
    "\n",
    "skf = StratifiedKFold(n_splits=5, shuffle=True, random_state=42)\n",
    "\n",
    "scoring = {\n",
    "    'accuracy': make_scorer(accuracy_score),\n",
    "    'precision': make_scorer(precision_score),\n",
    "    'recall': make_scorer(recall_score),\n",
    "    'f1': make_scorer(f1_score)\n",
    "}\n",
    "\n",
    "\n",
    "cv_results = cross_validate(pipeline, X, y, cv=skf, scoring=scoring)\n",
    "\n",
    "\n",
    "metrics_table = pd.DataFrame({\n",
    "    metric: cv_results[f'test_{metric}'] for metric in scoring.keys()\n",
    "})\n",
    "metrics_table.loc['mean'] = metrics_table.mean()\n",
    "metrics_table = metrics_table.round(2)\n",
    "\n",
    "\n",
    "metrics_table"
   ]
  },
  {
   "cell_type": "markdown",
   "metadata": {},
   "source": [
    "# SAM40: Arithmetic only\n"
   ]
  },
  {
   "cell_type": "code",
   "execution_count": null,
   "metadata": {},
   "outputs": [],
   "source": [
    "file_path = r'epochs\\sam40_arithmetic_epochs.zip'\n",
    "\n",
    "shutil.unpack_archive(file_path, extract_dir=os.path.dirname(file_path), format=\"zip\")\n",
    "fif_path = os.path.splitext(file_path)[0] + \".fif\"\n",
    "sam40_arithmetic_epochs = mne.read_epochs(fif_path, preload=True)\n",
    "os.remove(fif_path)\n",
    "\n",
    "sam40_arithmetic_epochs"
   ]
  },
  {
   "cell_type": "code",
   "execution_count": null,
   "metadata": {},
   "outputs": [],
   "source": [
    "fig, ax = plt.subplots(figsize=[15, 5])\n",
    "\n",
    "mne.viz.plot_events(\n",
    "    sam40_arithmetic_epochs.events,\n",
    "    sam40_arithmetic_epochs.info[\"sfreq\"],\n",
    "    event_id=sam40_arithmetic_epochs.event_id,\n",
    "    axes=ax\n",
    ")\n",
    "plt.show()"
   ]
  },
  {
   "cell_type": "code",
   "execution_count": null,
   "metadata": {},
   "outputs": [],
   "source": [
    "X = sam40_arithmetic_epochs.get_data(copy=False) \n",
    "y = sam40_arithmetic_epochs.events[:, 2]       \n",
    "\n",
    "shape = X.shape\n",
    "n_epochs, n_channels, n_times = X.shape\n",
    "X = X.reshape(n_epochs, n_channels * n_times)\n",
    "\n",
    "\n",
    "print(f\"X исходная: {shape} (эпохи, каналы, время)\")\n",
    "print(f\"X после reshape: {X.shape} (эпохи, признаки)\")\n",
    "print(f\"y: {y.shape} (метки классов)\")"
   ]
  },
  {
   "cell_type": "markdown",
   "metadata": {},
   "source": [
    "## Baseline - Arithmetic only"
   ]
  },
  {
   "cell_type": "code",
   "execution_count": null,
   "metadata": {},
   "outputs": [],
   "source": [
    "from sklearn.model_selection import StratifiedKFold,  cross_validate\n",
    "from sklearn.pipeline import Pipeline\n",
    "from sklearn.preprocessing import StandardScaler\n",
    "from sklearn.metrics import accuracy_score\n",
    "from sklearn.metrics import make_scorer, accuracy_score, precision_score, recall_score, f1_score\n",
    "import xgboost as xgb\n",
    "\n",
    "xgb_classifier = xgb.XGBClassifier(\n",
    "    objective='binary:logistic',  # Для бинарной классификации\n",
    "    n_estimators=100,             # Количество деревьев (можно увеличить)\n",
    "    learning_rate=0.2,            # Скорость обучения\n",
    "    max_depth=7,                  # Максимальная глубина дерева (можно настроить)\n",
    "    eval_metric='logloss',        # Метрика для бинарной классификации\n",
    "    random_state=42\n",
    ")\n",
    "\n",
    "pipeline = Pipeline([\n",
    "    ('scaler', StandardScaler()),\n",
    "    ('clf', xgb_classifier)\n",
    "])\n",
    "\n",
    "skf = StratifiedKFold(n_splits=5, shuffle=True, random_state=42)\n",
    "\n",
    "scoring = {\n",
    "    'accuracy': make_scorer(accuracy_score),\n",
    "    'precision': make_scorer(precision_score),\n",
    "    'recall': make_scorer(recall_score),\n",
    "    'f1': make_scorer(f1_score)\n",
    "}\n",
    "\n",
    "\n",
    "cv_results = cross_validate(pipeline, X, y, cv=skf, scoring=scoring)\n",
    "\n",
    "\n",
    "metrics_table = pd.DataFrame({\n",
    "    metric: cv_results[f'test_{metric}'] for metric in scoring.keys()\n",
    "})\n",
    "metrics_table.loc['mean'] = metrics_table.mean()\n",
    "metrics_table = metrics_table.round(2)\n",
    "\n",
    "\n",
    "metrics_table"
   ]
  },
  {
   "cell_type": "markdown",
   "metadata": {},
   "source": [
    "# SAM40: Mirror only\n"
   ]
  },
  {
   "cell_type": "code",
   "execution_count": null,
   "metadata": {},
   "outputs": [],
   "source": [
    "file_path = r'epochs\\sam40_mirror_epochs.zip'\n",
    "\n",
    "shutil.unpack_archive(file_path, extract_dir=os.path.dirname(file_path), format=\"zip\")\n",
    "fif_path = os.path.splitext(file_path)[0] + \".fif\"\n",
    "sam40_mirror_epochs = mne.read_epochs(fif_path, preload=True)\n",
    "os.remove(fif_path)\n",
    "\n",
    "sam40_mirror_epochs"
   ]
  },
  {
   "cell_type": "code",
   "execution_count": null,
   "metadata": {},
   "outputs": [],
   "source": [
    "fig, ax = plt.subplots(figsize=[15, 5])\n",
    "\n",
    "mne.viz.plot_events(\n",
    "    sam40_mirror_epochs.events,\n",
    "    sam40_mirror_epochs.info[\"sfreq\"],\n",
    "    event_id=sam40_mirror_epochs.event_id,\n",
    "    axes=ax\n",
    ")\n",
    "plt.show()"
   ]
  },
  {
   "cell_type": "code",
   "execution_count": null,
   "metadata": {},
   "outputs": [],
   "source": [
    "X = sam40_mirror_epochs.get_data(copy=False) \n",
    "y = sam40_mirror_epochs.events[:, 2]       \n",
    "\n",
    "shape = X.shape\n",
    "n_epochs, n_channels, n_times = X.shape\n",
    "X = X.reshape(n_epochs, n_channels * n_times)\n",
    "\n",
    "\n",
    "print(f\"X исходная: {shape} (эпохи, каналы, время)\")\n",
    "print(f\"X после reshape: {X.shape} (эпохи, признаки)\")\n",
    "print(f\"y: {y.shape} (метки классов)\")"
   ]
  },
  {
   "cell_type": "markdown",
   "metadata": {},
   "source": [
    "## Baseline - Mirror only"
   ]
  },
  {
   "cell_type": "code",
   "execution_count": null,
   "metadata": {},
   "outputs": [],
   "source": [
    "from sklearn.model_selection import StratifiedKFold,  cross_validate\n",
    "from sklearn.pipeline import Pipeline\n",
    "from sklearn.preprocessing import StandardScaler\n",
    "from sklearn.metrics import accuracy_score\n",
    "from sklearn.metrics import make_scorer, accuracy_score, precision_score, recall_score, f1_score\n",
    "import xgboost as xgb\n",
    "\n",
    "xgb_classifier = xgb.XGBClassifier(\n",
    "    objective='binary:logistic',  # Для бинарной классификации\n",
    "    n_estimators=100,             # Количество деревьев (можно увеличить)\n",
    "    learning_rate=0.2,            # Скорость обучения\n",
    "    max_depth=7,                  # Максимальная глубина дерева (можно настроить)\n",
    "    eval_metric='logloss',        # Метрика для бинарной классификации\n",
    "    random_state=42\n",
    ")\n",
    "\n",
    "pipeline = Pipeline([\n",
    "    ('scaler', StandardScaler()),\n",
    "    ('clf', xgb_classifier)\n",
    "])\n",
    "\n",
    "skf = StratifiedKFold(n_splits=5, shuffle=True, random_state=42)\n",
    "\n",
    "scoring = {\n",
    "    'accuracy': make_scorer(accuracy_score),\n",
    "    'precision': make_scorer(precision_score),\n",
    "    'recall': make_scorer(recall_score),\n",
    "    'f1': make_scorer(f1_score)\n",
    "}\n",
    "\n",
    "\n",
    "cv_results = cross_validate(pipeline, X, y, cv=skf, scoring=scoring)\n",
    "\n",
    "\n",
    "metrics_table = pd.DataFrame({\n",
    "    metric: cv_results[f'test_{metric}'] for metric in scoring.keys()\n",
    "})\n",
    "metrics_table.loc['mean'] = metrics_table.mean()\n",
    "metrics_table = metrics_table.round(2)\n",
    "\n",
    "\n",
    "metrics_table"
   ]
  },
  {
   "cell_type": "markdown",
   "metadata": {},
   "source": [
    "# GridSearch"
   ]
  },
  {
   "cell_type": "code",
   "execution_count": null,
   "metadata": {},
   "outputs": [],
   "source": [
    "# from sklearn.model_selection import GridSearchCV\n",
    "# from xgboost import XGBClassifier\n",
    "# import numpy as np\n",
    "\n",
    "# # Параметры для бинарной классификации\n",
    "# param_grid = {\n",
    "#     'n_estimators': [100, 200, 300],\n",
    "#     'learning_rate': [0.01, 0.1, 0.2],\n",
    "#     'max_depth': [3, 5, 7],\n",
    "#     'objective': ['binary:logistic'],  # бинарная классификация\n",
    "#     'use_label_encoder': [False],     # чтобы избежать предупреждений\n",
    "#     'eval_metric': ['logloss']        # метрика для бинарной классификации\n",
    "# }\n",
    "\n",
    "# # Создаем GridSearchCV объект\n",
    "# grid_search = GridSearchCV(\n",
    "#     estimator=XGBClassifier(random_state=42),\n",
    "#     param_grid=param_grid,\n",
    "#     scoring='accuracy',  # или другая подходящая метрика для бинарной классификации\n",
    "#     cv=3,\n",
    "#     verbose=1,\n",
    "#     n_jobs=-1\n",
    "# )\n",
    "\n",
    "# # Fit the grid search to the data\n",
    "# grid_search.fit(X_train, y_train)"
   ]
  },
  {
   "cell_type": "code",
   "execution_count": null,
   "metadata": {},
   "outputs": [],
   "source": [
    "# from sklearn.metrics import classification_report\n",
    "\n",
    "# print(\"Best parameters found by GridSearchCV:\")\n",
    "# print(grid_search.best_params_)\n",
    "\n",
    "# best_xgb_model = grid_search.best_estimator_\n",
    "\n",
    "# y_pred_tuned_xgb = best_xgb_model.predict(X_test)\n",
    "\n",
    "# print(\"\\nTuned XGBoost Model - Classification Report:\")\n",
    "# print(classification_report(y_test, y_pred_tuned_xgb, target_names=['focused', 'unfocused']))"
   ]
  },
  {
   "cell_type": "code",
   "execution_count": null,
   "metadata": {},
   "outputs": [],
   "source": [
    "# Best parameters found by GridSearchCV:\n",
    "# {'eval_metric': 'logloss', 'learning_rate': 0.2, 'max_depth': 7, 'n_estimators': 300, 'objective': 'binary:logistic', 'use_label_encoder': False}\n",
    "\n",
    "# Tuned XGBoost Model - Classification Report:\n",
    "#               precision    recall  f1-score   support\n",
    "\n",
    "#      focused       0.86      0.87      0.86      8628\n",
    "#    unfocused       0.87      0.86      0.86      8640\n",
    "\n",
    "#     accuracy                           0.86     17268\n",
    "#    macro avg       0.86      0.86      0.86     17268\n",
    "# weighted avg       0.86      0.86      0.86     17268"
   ]
  }
 ],
 "metadata": {
  "colab": {
   "provenance": [],
   "toc_visible": true
  },
  "kernelspec": {
   "display_name": "Python 3",
   "language": "python",
   "name": "python3"
  },
  "language_info": {
   "codemirror_mode": {
    "name": "ipython",
    "version": 3
   },
   "file_extension": ".py",
   "mimetype": "text/x-python",
   "name": "python",
   "nbconvert_exporter": "python",
   "pygments_lexer": "ipython3",
   "version": "3.13.7"
  }
 },
 "nbformat": 4,
 "nbformat_minor": 4
}
